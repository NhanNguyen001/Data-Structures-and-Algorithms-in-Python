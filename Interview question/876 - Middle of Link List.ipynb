{
 "cells": [
  {
   "cell_type": "code",
   "execution_count": 6,
   "metadata": {},
   "outputs": [],
   "source": [
    "from typing import Optional\n",
    "\n",
    "\n",
    "# First, we need to define the ListNode class\n",
    "class ListNode:\n",
    "    def __init__(self, val=0, next=None):\n",
    "        self.val = val\n",
    "        self.next = next"
   ]
  },
  {
   "cell_type": "code",
   "execution_count": 30,
   "metadata": {},
   "outputs": [],
   "source": [
    "class Solution:\n",
    "    def middleNode(self, head: Optional[ListNode]) -> Optional[ListNode]:\n",
    "        # Handle edge cases\n",
    "        if not head or not head.next:\n",
    "            return head\n",
    "            \n",
    "        # Initialize two pointers\n",
    "        slow = head\n",
    "        fast = head\n",
    "        \n",
    "        print('slow.val', slow.val)\n",
    "        print('fast.val', fast.val)\n",
    "        print('#########################')\n",
    "        \n",
    "        # Move fast pointer twice as fast as slow pointer\n",
    "        while fast and fast.next:\n",
    "            slow = slow.next\n",
    "            print('slow.val', slow.val) \n",
    "            \n",
    "            if fast.next:\n",
    "                print('fast.next.val', fast.next.val)\n",
    "            \n",
    "            fast = fast.next.next\n",
    "            if fast:  # Check if fast is not None before accessing fast.val\n",
    "                print('fast.val', fast.val)\n",
    "                \n",
    "            print('#########################')\n",
    "        \n",
    "        return slow"
   ]
  },
  {
   "cell_type": "code",
   "execution_count": 31,
   "metadata": {},
   "outputs": [
    {
     "name": "stdout",
     "output_type": "stream",
     "text": [
      "\n",
      "Test case: [1, 2, 3, 4, 5, 6]\n",
      "slow.val 1\n",
      "fast.val 1\n",
      "#########################\n",
      "slow.val 2\n",
      "fast.next.val 2\n",
      "fast.val 3\n",
      "#########################\n",
      "slow.val 3\n",
      "fast.next.val 4\n",
      "fast.val 5\n",
      "#########################\n",
      "slow.val 4\n",
      "fast.next.val 6\n",
      "#########################\n",
      "Result: [4, 5, 6]\n",
      "--------------------------------\n"
     ]
    }
   ],
   "source": [
    "# Helper function to create a linked list from a list of values\n",
    "def create_linked_list(values):\n",
    "    if not values:\n",
    "        return None\n",
    "    head = ListNode(values[0])\n",
    "    current = head\n",
    "    for val in values[1:]:\n",
    "        current.next = ListNode(val)\n",
    "        current = current.next\n",
    "    return head\n",
    "\n",
    "# Helper function to convert linked list to list (for printing)\n",
    "def linked_list_to_list(head):\n",
    "    result = []\n",
    "    current = head\n",
    "    while current:\n",
    "        result.append(current.val)\n",
    "        current = current.next\n",
    "    return result\n",
    "\n",
    "# Test function\n",
    "def test_middle_node():\n",
    "    # Create test cases\n",
    "    test_cases = [\n",
    "        # [1,2,3,4,5],        # Odd length case\n",
    "        [1,2,3,4,5,6],      # Even length case\n",
    "        # [1],                # Single node case\n",
    "        # [1,2]               # Two nodes case\n",
    "    ]\n",
    "    \n",
    "    solution = Solution()\n",
    "    \n",
    "    # Test each case\n",
    "    for values in test_cases:\n",
    "        print(f\"\\nTest case: {values}\")\n",
    "        # Create linked list\n",
    "        head = create_linked_list(values)\n",
    "                \n",
    "        # Find middle node\n",
    "        middle = solution.middleNode(head)\n",
    "        # Convert result back to list for printing\n",
    "        result = linked_list_to_list(middle)\n",
    "        print(f\"Result: {result}\")\n",
    "        \n",
    "        print('--------------------------------')\n",
    "\n",
    "# Run the tests\n",
    "if __name__ == \"__main__\":\n",
    "    test_middle_node()"
   ]
  },
  {
   "cell_type": "code",
   "execution_count": null,
   "metadata": {},
   "outputs": [],
   "source": []
  },
  {
   "cell_type": "code",
   "execution_count": null,
   "metadata": {},
   "outputs": [],
   "source": []
  }
 ],
 "metadata": {
  "kernelspec": {
   "display_name": "Python 3",
   "language": "python",
   "name": "python3"
  },
  "language_info": {
   "codemirror_mode": {
    "name": "ipython",
    "version": 3
   },
   "file_extension": ".py",
   "mimetype": "text/x-python",
   "name": "python",
   "nbconvert_exporter": "python",
   "pygments_lexer": "ipython3",
   "version": "3.12.7"
  }
 },
 "nbformat": 4,
 "nbformat_minor": 2
}
