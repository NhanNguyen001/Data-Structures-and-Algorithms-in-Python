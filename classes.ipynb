{
 "cells": [
  {
   "cell_type": "code",
   "execution_count": 3,
   "metadata": {},
   "outputs": [],
   "source": [
    "class Dog:\n",
    "    # Class variable (shared by all instances)\n",
    "    species = \"Canis familiaris\"\n",
    "    \n",
    "    # Constructor method\n",
    "    def __init__(self, name, age):\n",
    "        # Instance variables (unique to each instance)\n",
    "        self.name = name    # Public attribute\n",
    "        self._age = age     # Protected attribute (by convention)\n",
    "        self.__tricks = []  # Private attribute (name mangling)\n",
    "    \n",
    "    # Instance method\n",
    "    def birthday(self):\n",
    "        self._age += 1\n",
    "        return f\"{self.name} is now {self._age} years old!\"\n",
    "\n",
    "# Creating instances\n",
    "buddy = Dog(\"Buddy\", 5)\n",
    "max = Dog(\"Max\", 3)\n"
   ]
  },
  {
   "cell_type": "code",
   "execution_count": 7,
   "metadata": {},
   "outputs": [
    {
     "ename": "AttributeError",
     "evalue": "'Dog' object has no attribute '__tricks'",
     "output_type": "error",
     "traceback": [
      "\u001b[0;31m---------------------------------------------------------------------------\u001b[0m",
      "\u001b[0;31mAttributeError\u001b[0m                            Traceback (most recent call last)",
      "Cell \u001b[0;32mIn[7], line 1\u001b[0m\n\u001b[0;32m----> 1\u001b[0m \u001b[38;5;28mmax\u001b[39m\u001b[38;5;241m.\u001b[39mname, \u001b[38;5;28mmax\u001b[39m\u001b[38;5;241m.\u001b[39m_age, \u001b[38;5;28;43mmax\u001b[39;49m\u001b[38;5;241;43m.\u001b[39;49m\u001b[43m__tricks\u001b[49m\n",
      "\u001b[0;31mAttributeError\u001b[0m: 'Dog' object has no attribute '__tricks'"
     ]
    }
   ],
   "source": [
    "max.name, max._age, max.__tricks"
   ]
  },
  {
   "cell_type": "code",
   "execution_count": 15,
   "metadata": {},
   "outputs": [],
   "source": [
    "class Temperature:\n",
    "    def __init__(self, celsius=0):\n",
    "        self._celsius = celsius\n",
    "    \n",
    "    # Property getter\n",
    "    @property\n",
    "    def celsius(self):\n",
    "        return self._celsius\n",
    "    \n",
    "    # Property setter\n",
    "    @celsius.setter\n",
    "    def celsius(self, value):\n",
    "        if value < -273.15:  # Absolute zero\n",
    "            raise ValueError(\"Temperature below absolute zero!\")\n",
    "        self._celsius = value\n",
    "    \n",
    "    # Property getter for Fahrenheit\n",
    "    @property\n",
    "    def fahrenheit(self):\n",
    "        return (self.celsius * 9/5) + 32\n",
    "\n",
    "# Using properties\n",
    "temp = Temperature(25)\n",
    "# print(temp.celsius)     # 25\n",
    "# print(temp.fahrenheit)  # 77\n",
    "# temp.celsius = 30      # Using setter\n",
    "# # temp.celsius = -300  # Would raise ValueError"
   ]
  },
  {
   "cell_type": "code",
   "execution_count": 18,
   "metadata": {},
   "outputs": [
    {
     "data": {
      "text/plain": [
       "(20, 20)"
      ]
     },
     "execution_count": 18,
     "metadata": {},
     "output_type": "execute_result"
    }
   ],
   "source": [
    "temp.celsius, temp._celsius"
   ]
  },
  {
   "cell_type": "code",
   "execution_count": 19,
   "metadata": {},
   "outputs": [],
   "source": [
    "temp.celsius = 20"
   ]
  },
  {
   "cell_type": "code",
   "execution_count": null,
   "metadata": {},
   "outputs": [],
   "source": []
  },
  {
   "cell_type": "code",
   "execution_count": null,
   "metadata": {},
   "outputs": [],
   "source": []
  },
  {
   "cell_type": "code",
   "execution_count": null,
   "metadata": {},
   "outputs": [],
   "source": []
  }
 ],
 "metadata": {
  "kernelspec": {
   "display_name": "Python 3",
   "language": "python",
   "name": "python3"
  },
  "language_info": {
   "codemirror_mode": {
    "name": "ipython",
    "version": 3
   },
   "file_extension": ".py",
   "mimetype": "text/x-python",
   "name": "python",
   "nbconvert_exporter": "python",
   "pygments_lexer": "ipython3",
   "version": "3.12.7"
  }
 },
 "nbformat": 4,
 "nbformat_minor": 2
}
